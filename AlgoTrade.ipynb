{
  "nbformat": 4,
  "nbformat_minor": 0,
  "metadata": {
    "colab": {
      "provenance": []
    },
    "kernelspec": {
      "name": "python3",
      "display_name": "Python 3"
    },
    "language_info": {
      "name": "python"
    }
  },
  "cells": [
    {
      "cell_type": "code",
      "execution_count": 1,
      "metadata": {
        "colab": {
          "base_uri": "https://localhost:8080/"
        },
        "id": "1tRgs5_1HKf8",
        "outputId": "99319220-b3a0-448e-9812-f1f1cc7296f0"
      },
      "outputs": [
        {
          "output_type": "stream",
          "name": "stdout",
          "text": [
            "🔍 Decision Tree Results\n",
            "Accuracy: 0.26666666666666666\n",
            "              precision    recall  f1-score   support\n",
            "\n",
            "           0       1.00      0.08      0.15        12\n",
            "           1       0.21      1.00      0.35         3\n",
            "\n",
            "    accuracy                           0.27        15\n",
            "   macro avg       0.61      0.54      0.25        15\n",
            "weighted avg       0.84      0.27      0.19        15\n",
            "\n",
            "\n",
            "📊 Logistic Regression Results\n",
            "Accuracy: 0.2\n",
            "              precision    recall  f1-score   support\n",
            "\n",
            "           0       0.50      0.08      0.14        12\n",
            "           1       0.15      0.67      0.25         3\n",
            "\n",
            "    accuracy                           0.20        15\n",
            "   macro avg       0.33      0.38      0.20        15\n",
            "weighted avg       0.43      0.20      0.16        15\n",
            "\n"
          ]
        }
      ],
      "source": [
        "import pandas as pd\n",
        "from sklearn.tree import DecisionTreeClassifier\n",
        "from sklearn.linear_model import LogisticRegression\n",
        "from sklearn.model_selection import train_test_split\n",
        "from sklearn.metrics import classification_report, accuracy_score\n",
        "\n",
        "# STEP 1: Load your Excel sheet\n",
        "file_path = \"/content/AlgoTradingSheet.xlsx\"  # Upload this file to Colab\n",
        "df = pd.read_excel(file_path, sheet_name=\"TCS\")\n",
        "\n",
        "# STEP 2: Clean column names\n",
        "df.columns = df.columns.str.strip()\n",
        "\n",
        "# STEP 3: Drop rows with missing values in required columns\n",
        "required_cols = [\"RSI\", \"Volume_TCS.NS\", \"Close_TCS.NS\", \"20DMA\", \"50DMA\"]\n",
        "df = df.dropna(subset=required_cols).copy()\n",
        "\n",
        "# STEP 4: Create target - 1 if next day Close > today\n",
        "df[\"Target\"] = (df[\"Close_TCS.NS\"].shift(-1) > df[\"Close_TCS.NS\"]).astype(int)\n",
        "df = df[:-1]  # Drop last row (no next day data)\n",
        "\n",
        "# STEP 5: Select features and target\n",
        "X = df[[\"RSI\", \"Volume_TCS.NS\", \"20DMA\", \"50DMA\"]]\n",
        "y = df[\"Target\"]\n",
        "\n",
        "# STEP 6: Split data\n",
        "X_train, X_test, y_train, y_test = train_test_split(X, y, test_size=0.2, shuffle=False)\n",
        "\n",
        "# =========================\n",
        "# Model 1: Decision Tree\n",
        "# =========================\n",
        "tree_model = DecisionTreeClassifier(max_depth=4, random_state=42)\n",
        "tree_model.fit(X_train, y_train)\n",
        "y_pred_tree = tree_model.predict(X_test)\n",
        "\n",
        "print(\"🔍 Decision Tree Results\")\n",
        "print(\"Accuracy:\", accuracy_score(y_test, y_pred_tree))\n",
        "print(classification_report(y_test, y_pred_tree))\n",
        "\n",
        "# =========================\n",
        "# Model 2: Logistic Regression\n",
        "# =========================\n",
        "log_model = LogisticRegression(max_iter=200)\n",
        "log_model.fit(X_train, y_train)\n",
        "y_pred_log = log_model.predict(X_test)\n",
        "\n",
        "print(\"\\n📊 Logistic Regression Results\")\n",
        "print(\"Accuracy:\", accuracy_score(y_test, y_pred_log))\n",
        "print(classification_report(y_test, y_pred_log))\n"
      ]
    }
  ]
}