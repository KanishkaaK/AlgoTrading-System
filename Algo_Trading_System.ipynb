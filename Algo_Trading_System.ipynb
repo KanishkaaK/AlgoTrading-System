{
  "nbformat": 4,
  "nbformat_minor": 0,
  "metadata": {
    "colab": {
      "provenance": []
    },
    "kernelspec": {
      "name": "python3",
      "display_name": "Python 3"
    },
    "language_info": {
      "name": "python"
    }
  },
  "cells": [
    {
      "cell_type": "code",
      "source": [
        "!pip install yfinance gspread oauth2client scikit-learn python-telegram-bot --quiet\n"
      ],
      "metadata": {
        "colab": {
          "base_uri": "https://localhost:8080/"
        },
        "id": "rXsGEKyFmBfH",
        "outputId": "6d409797-cbba-4e1f-a940-a5aeb8e5c1e3"
      },
      "execution_count": 1,
      "outputs": [
        {
          "output_type": "stream",
          "name": "stdout",
          "text": [
            "\u001b[31mERROR: pip's dependency resolver does not currently take into account all the packages that are installed. This behaviour is the source of the following dependency conflicts.\n",
            "opencv-contrib-python 4.12.0.88 requires numpy<2.3.0,>=2; python_version >= \"3.9\", but you have numpy 2.3.2 which is incompatible.\n",
            "tensorflow 2.19.0 requires numpy<2.2.0,>=1.26.0, but you have numpy 2.3.2 which is incompatible.\n",
            "numba 0.60.0 requires numpy<2.1,>=1.22, but you have numpy 2.3.2 which is incompatible.\n",
            "opencv-python 4.12.0.88 requires numpy<2.3.0,>=2; python_version >= \"3.9\", but you have numpy 2.3.2 which is incompatible.\n",
            "opencv-python-headless 4.12.0.88 requires numpy<2.3.0,>=2; python_version >= \"3.9\", but you have numpy 2.3.2 which is incompatible.\n",
            "cupy-cuda12x 13.3.0 requires numpy<2.3,>=1.22, but you have numpy 2.3.2 which is incompatible.\u001b[0m\u001b[31m\n",
            "\u001b[0m"
          ]
        }
      ]
    },
    {
      "cell_type": "code",
      "source": [
        "!pip install --upgrade yfinance pandas_ta gspread oauth2client --quiet\n"
      ],
      "metadata": {
        "id": "3uw5qFbjyZvj"
      },
      "execution_count": 2,
      "outputs": []
    },
    {
      "cell_type": "code",
      "source": [
        "!pip install yfinance gspread oauth2client --quiet\n"
      ],
      "metadata": {
        "id": "54Y6pj8eysvE"
      },
      "execution_count": 3,
      "outputs": []
    },
    {
      "cell_type": "code",
      "source": [
        "\n",
        "!pip install numpy==1.25.2 scipy==1.11.4 scikit-learn==1.3.0 pandas-ta==0.3.14b --force-reinstall\n"
      ],
      "metadata": {
        "colab": {
          "base_uri": "https://localhost:8080/",
          "height": 1000
        },
        "id": "u_GNhk507EuM",
        "outputId": "e35d7bee-d241-49ed-ce05-d52ede4be686"
      },
      "execution_count": 2,
      "outputs": [
        {
          "output_type": "stream",
          "name": "stdout",
          "text": [
            "Collecting numpy==1.25.2\n",
            "  Downloading numpy-1.25.2-cp311-cp311-manylinux_2_17_x86_64.manylinux2014_x86_64.whl.metadata (5.6 kB)\n",
            "Collecting scipy==1.11.4\n",
            "  Downloading scipy-1.11.4-cp311-cp311-manylinux_2_17_x86_64.manylinux2014_x86_64.whl.metadata (60 kB)\n",
            "\u001b[2K     \u001b[90m━━━━━━━━━━━━━━━━━━━━━━━━━━━━━━━━━━━━━━━━\u001b[0m \u001b[32m60.4/60.4 kB\u001b[0m \u001b[31m1.1 MB/s\u001b[0m eta \u001b[36m0:00:00\u001b[0m\n",
            "\u001b[?25hCollecting scikit-learn==1.3.0\n",
            "  Downloading scikit_learn-1.3.0-cp311-cp311-manylinux_2_17_x86_64.manylinux2014_x86_64.whl.metadata (11 kB)\n",
            "Collecting pandas-ta==0.3.14b\n",
            "  Using cached pandas_ta-0.3.14b0-py3-none-any.whl\n",
            "Collecting joblib>=1.1.1 (from scikit-learn==1.3.0)\n",
            "  Downloading joblib-1.5.1-py3-none-any.whl.metadata (5.6 kB)\n",
            "Collecting threadpoolctl>=2.0.0 (from scikit-learn==1.3.0)\n",
            "  Downloading threadpoolctl-3.6.0-py3-none-any.whl.metadata (13 kB)\n",
            "Collecting pandas (from pandas-ta==0.3.14b)\n",
            "  Downloading pandas-2.3.1-cp311-cp311-manylinux_2_17_x86_64.manylinux2014_x86_64.whl.metadata (91 kB)\n",
            "\u001b[2K     \u001b[90m━━━━━━━━━━━━━━━━━━━━━━━━━━━━━━━━━━━━━━━━\u001b[0m \u001b[32m91.2/91.2 kB\u001b[0m \u001b[31m2.0 MB/s\u001b[0m eta \u001b[36m0:00:00\u001b[0m\n",
            "\u001b[?25hCollecting python-dateutil>=2.8.2 (from pandas->pandas-ta==0.3.14b)\n",
            "  Downloading python_dateutil-2.9.0.post0-py2.py3-none-any.whl.metadata (8.4 kB)\n",
            "Collecting pytz>=2020.1 (from pandas->pandas-ta==0.3.14b)\n",
            "  Downloading pytz-2025.2-py2.py3-none-any.whl.metadata (22 kB)\n",
            "Collecting tzdata>=2022.7 (from pandas->pandas-ta==0.3.14b)\n",
            "  Downloading tzdata-2025.2-py2.py3-none-any.whl.metadata (1.4 kB)\n",
            "Collecting six>=1.5 (from python-dateutil>=2.8.2->pandas->pandas-ta==0.3.14b)\n",
            "  Downloading six-1.17.0-py2.py3-none-any.whl.metadata (1.7 kB)\n",
            "Downloading numpy-1.25.2-cp311-cp311-manylinux_2_17_x86_64.manylinux2014_x86_64.whl (18.2 MB)\n",
            "\u001b[2K   \u001b[90m━━━━━━━━━━━━━━━━━━━━━━━━━━━━━━━━━━━━━━━━\u001b[0m \u001b[32m18.2/18.2 MB\u001b[0m \u001b[31m65.1 MB/s\u001b[0m eta \u001b[36m0:00:00\u001b[0m\n",
            "\u001b[?25hDownloading scipy-1.11.4-cp311-cp311-manylinux_2_17_x86_64.manylinux2014_x86_64.whl (36.4 MB)\n",
            "\u001b[2K   \u001b[90m━━━━━━━━━━━━━━━━━━━━━━━━━━━━━━━━━━━━━━━━\u001b[0m \u001b[32m36.4/36.4 MB\u001b[0m \u001b[31m22.4 MB/s\u001b[0m eta \u001b[36m0:00:00\u001b[0m\n",
            "\u001b[?25hDownloading scikit_learn-1.3.0-cp311-cp311-manylinux_2_17_x86_64.manylinux2014_x86_64.whl (10.9 MB)\n",
            "\u001b[2K   \u001b[90m━━━━━━━━━━━━━━━━━━━━━━━━━━━━━━━━━━━━━━━━\u001b[0m \u001b[32m10.9/10.9 MB\u001b[0m \u001b[31m55.4 MB/s\u001b[0m eta \u001b[36m0:00:00\u001b[0m\n",
            "\u001b[?25hDownloading joblib-1.5.1-py3-none-any.whl (307 kB)\n",
            "\u001b[2K   \u001b[90m━━━━━━━━━━━━━━━━━━━━━━━━━━━━━━━━━━━━━━━━\u001b[0m \u001b[32m307.7/307.7 kB\u001b[0m \u001b[31m20.3 MB/s\u001b[0m eta \u001b[36m0:00:00\u001b[0m\n",
            "\u001b[?25hDownloading threadpoolctl-3.6.0-py3-none-any.whl (18 kB)\n",
            "Downloading pandas-2.3.1-cp311-cp311-manylinux_2_17_x86_64.manylinux2014_x86_64.whl (12.4 MB)\n",
            "\u001b[2K   \u001b[90m━━━━━━━━━━━━━━━━━━━━━━━━━━━━━━━━━━━━━━━━\u001b[0m \u001b[32m12.4/12.4 MB\u001b[0m \u001b[31m71.6 MB/s\u001b[0m eta \u001b[36m0:00:00\u001b[0m\n",
            "\u001b[?25hDownloading python_dateutil-2.9.0.post0-py2.py3-none-any.whl (229 kB)\n",
            "\u001b[2K   \u001b[90m━━━━━━━━━━━━━━━━━━━━━━━━━━━━━━━━━━━━━━━━\u001b[0m \u001b[32m229.9/229.9 kB\u001b[0m \u001b[31m16.8 MB/s\u001b[0m eta \u001b[36m0:00:00\u001b[0m\n",
            "\u001b[?25hDownloading pytz-2025.2-py2.py3-none-any.whl (509 kB)\n",
            "\u001b[2K   \u001b[90m━━━━━━━━━━━━━━━━━━━━━━━━━━━━━━━━━━━━━━━━\u001b[0m \u001b[32m509.2/509.2 kB\u001b[0m \u001b[31m31.6 MB/s\u001b[0m eta \u001b[36m0:00:00\u001b[0m\n",
            "\u001b[?25hDownloading tzdata-2025.2-py2.py3-none-any.whl (347 kB)\n",
            "\u001b[2K   \u001b[90m━━━━━━━━━━━━━━━━━━━━━━━━━━━━━━━━━━━━━━━━\u001b[0m \u001b[32m347.8/347.8 kB\u001b[0m \u001b[31m23.5 MB/s\u001b[0m eta \u001b[36m0:00:00\u001b[0m\n",
            "\u001b[?25hDownloading six-1.17.0-py2.py3-none-any.whl (11 kB)\n",
            "Installing collected packages: pytz, tzdata, threadpoolctl, six, numpy, joblib, scipy, python-dateutil, scikit-learn, pandas, pandas-ta\n",
            "  Attempting uninstall: pytz\n",
            "    Found existing installation: pytz 2025.2\n",
            "    Uninstalling pytz-2025.2:\n",
            "      Successfully uninstalled pytz-2025.2\n",
            "  Attempting uninstall: tzdata\n",
            "    Found existing installation: tzdata 2025.2\n",
            "    Uninstalling tzdata-2025.2:\n",
            "      Successfully uninstalled tzdata-2025.2\n",
            "  Attempting uninstall: threadpoolctl\n",
            "    Found existing installation: threadpoolctl 3.6.0\n",
            "    Uninstalling threadpoolctl-3.6.0:\n",
            "      Successfully uninstalled threadpoolctl-3.6.0\n",
            "  Attempting uninstall: six\n",
            "    Found existing installation: six 1.17.0\n",
            "    Uninstalling six-1.17.0:\n",
            "      Successfully uninstalled six-1.17.0\n",
            "  Attempting uninstall: numpy\n",
            "    Found existing installation: numpy 1.23.5\n",
            "    Uninstalling numpy-1.23.5:\n",
            "      Successfully uninstalled numpy-1.23.5\n",
            "  Attempting uninstall: joblib\n",
            "    Found existing installation: joblib 1.5.1\n",
            "    Uninstalling joblib-1.5.1:\n",
            "      Successfully uninstalled joblib-1.5.1\n",
            "  Attempting uninstall: scipy\n",
            "    Found existing installation: scipy 1.16.1\n",
            "    Uninstalling scipy-1.16.1:\n",
            "      Successfully uninstalled scipy-1.16.1\n",
            "  Attempting uninstall: python-dateutil\n",
            "    Found existing installation: python-dateutil 2.9.0.post0\n",
            "    Uninstalling python-dateutil-2.9.0.post0:\n",
            "      Successfully uninstalled python-dateutil-2.9.0.post0\n",
            "  Attempting uninstall: scikit-learn\n",
            "    Found existing installation: scikit-learn 1.6.1\n",
            "    Uninstalling scikit-learn-1.6.1:\n",
            "      Successfully uninstalled scikit-learn-1.6.1\n",
            "  Attempting uninstall: pandas\n",
            "    Found existing installation: pandas 2.2.2\n",
            "    Uninstalling pandas-2.2.2:\n",
            "      Successfully uninstalled pandas-2.2.2\n",
            "  Attempting uninstall: pandas-ta\n",
            "    Found existing installation: pandas_ta 0.3.14b0\n",
            "    Uninstalling pandas_ta-0.3.14b0:\n",
            "      Successfully uninstalled pandas_ta-0.3.14b0\n",
            "\u001b[31mERROR: pip's dependency resolver does not currently take into account all the packages that are installed. This behaviour is the source of the following dependency conflicts.\n",
            "google-colab 1.0.0 requires pandas==2.2.2, but you have pandas 2.3.1 which is incompatible.\n",
            "opencv-contrib-python 4.12.0.88 requires numpy<2.3.0,>=2; python_version >= \"3.9\", but you have numpy 1.25.2 which is incompatible.\n",
            "dask-cudf-cu12 25.6.0 requires pandas<2.2.4dev0,>=2.0, but you have pandas 2.3.1 which is incompatible.\n",
            "tsfresh 0.21.0 requires scipy>=1.14.0; python_version >= \"3.10\", but you have scipy 1.11.4 which is incompatible.\n",
            "imbalanced-learn 0.13.0 requires scikit-learn<2,>=1.3.2, but you have scikit-learn 1.3.0 which is incompatible.\n",
            "cuml-cu12 25.6.0 requires scikit-learn>=1.5, but you have scikit-learn 1.3.0 which is incompatible.\n",
            "tensorflow 2.19.0 requires numpy<2.2.0,>=1.26.0, but you have numpy 1.25.2 which is incompatible.\n",
            "umap-learn 0.5.9.post2 requires scikit-learn>=1.6, but you have scikit-learn 1.3.0 which is incompatible.\n",
            "opencv-python 4.12.0.88 requires numpy<2.3.0,>=2; python_version >= \"3.9\", but you have numpy 1.25.2 which is incompatible.\n",
            "arviz 0.22.0 requires numpy>=1.26.0, but you have numpy 1.25.2 which is incompatible.\n",
            "opencv-python-headless 4.12.0.88 requires numpy<2.3.0,>=2; python_version >= \"3.9\", but you have numpy 1.25.2 which is incompatible.\n",
            "xarray 2025.7.1 requires numpy>=1.26, but you have numpy 1.25.2 which is incompatible.\n",
            "mlxtend 0.23.4 requires scikit-learn>=1.3.1, but you have scikit-learn 1.3.0 which is incompatible.\n",
            "cudf-cu12 25.6.0 requires pandas<2.2.4dev0,>=2.0, but you have pandas 2.3.1 which is incompatible.\n",
            "thinc 8.3.6 requires numpy<3.0.0,>=2.0.0, but you have numpy 1.25.2 which is incompatible.\n",
            "blosc2 3.6.1 requires numpy>=1.26, but you have numpy 1.25.2 which is incompatible.\u001b[0m\u001b[31m\n",
            "\u001b[0mSuccessfully installed joblib-1.5.1 numpy-1.25.2 pandas-2.3.1 pandas-ta-0.3.14b0 python-dateutil-2.9.0.post0 pytz-2025.2 scikit-learn-1.3.0 scipy-1.11.4 six-1.17.0 threadpoolctl-3.6.0 tzdata-2025.2\n"
          ]
        },
        {
          "output_type": "display_data",
          "data": {
            "application/vnd.colab-display-data+json": {
              "pip_warning": {
                "packages": [
                  "dateutil",
                  "joblib",
                  "numpy",
                  "pandas",
                  "pytz",
                  "scipy",
                  "six"
                ]
              },
              "id": "701b05d256fd40b083e57a5c67d80cf9"
            }
          },
          "metadata": {}
        }
      ]
    },
    {
      "cell_type": "code",
      "source": [
        "import yfinance as yf\n",
        "import pandas as pd\n",
        "import numpy as np\n",
        "from datetime import datetime\n",
        "\n",
        "from sklearn.tree import DecisionTreeClassifier\n",
        "from sklearn.model_selection import train_test_split\n",
        "from sklearn.metrics import accuracy_score\n",
        "\n",
        "import gspread\n",
        "from oauth2client.service_account import ServiceAccountCredentials\n",
        "import requests\n"
      ],
      "metadata": {
        "id": "THItIdmUmJSU"
      },
      "execution_count": 1,
      "outputs": []
    },
    {
      "cell_type": "code",
      "source": [
        "def fetch_stock_data(ticker, period=\"6mo\", interval=\"1d\"):\n",
        "    df = yf.download(ticker, period=period, interval=interval)\n",
        "    df.dropna(inplace=True)\n",
        "    return df\n",
        "\n",
        "tickers = ['TCS.NS', 'INFY.NS', 'RELIANCE.NS']\n",
        "stock_data = {ticker: fetch_stock_data(ticker) for ticker in tickers}\n"
      ],
      "metadata": {
        "colab": {
          "base_uri": "https://localhost:8080/"
        },
        "id": "3AyZrErWmLcv",
        "outputId": "89f9f9b2-76e2-4f58-939e-03f8a38d7098"
      },
      "execution_count": 2,
      "outputs": [
        {
          "output_type": "stream",
          "name": "stderr",
          "text": [
            "/tmp/ipython-input-1433583922.py:2: FutureWarning: YF.download() has changed argument auto_adjust default to True\n",
            "  df = yf.download(ticker, period=period, interval=interval)\n",
            "[*********************100%***********************]  1 of 1 completed\n",
            "/tmp/ipython-input-1433583922.py:2: FutureWarning: YF.download() has changed argument auto_adjust default to True\n",
            "  df = yf.download(ticker, period=period, interval=interval)\n",
            "[*********************100%***********************]  1 of 1 completed\n",
            "/tmp/ipython-input-1433583922.py:2: FutureWarning: YF.download() has changed argument auto_adjust default to True\n",
            "  df = yf.download(ticker, period=period, interval=interval)\n",
            "[*********************100%***********************]  1 of 1 completed\n"
          ]
        }
      ]
    },
    {
      "cell_type": "code",
      "source": [
        "def compute_rsi(df, period=14):\n",
        "    delta = df['Close'].diff()\n",
        "    gain = delta.clip(lower=0)\n",
        "    loss = -delta.clip(upper=0)\n",
        "\n",
        "    avg_gain = gain.rolling(window=period).mean()\n",
        "    avg_loss = loss.rolling(window=period).mean()\n",
        "\n",
        "    rs = avg_gain / avg_loss\n",
        "    rsi = 100 - (100 / (1 + rs))\n",
        "    return rsi\n",
        "\n"
      ],
      "metadata": {
        "id": "KJVjuG4wmO_p"
      },
      "execution_count": 3,
      "outputs": []
    },
    {
      "cell_type": "code",
      "source": [
        "def apply_indicators(df):\n",
        "    df['RSI'] = compute_rsi(df)\n",
        "    df['20DMA'] = df['Close'].rolling(window=20).mean()\n",
        "    df['50DMA'] = df['Close'].rolling(window=50).mean()\n",
        "    df.dropna(inplace=True)\n",
        "    return df\n",
        "\n",
        "for ticker in tickers:\n",
        "    stock_data[ticker] = apply_indicators(stock_data[ticker])\n"
      ],
      "metadata": {
        "id": "w5dQNkIUmSqd"
      },
      "execution_count": 4,
      "outputs": []
    },
    {
      "cell_type": "code",
      "source": [
        "def generate_signals(df):\n",
        "    signals = []\n",
        "    for i in range(1, len(df)):\n",
        "        if (\n",
        "            df['RSI'].iloc[i] < 30\n",
        "            and df['20DMA'].iloc[i] > df['50DMA'].iloc[i]\n",
        "            and df['20DMA'].iloc[i - 1] <= df['50DMA'].iloc[i - 1]\n",
        "        ):\n",
        "            signals.append((\"BUY\", df.index[i], df['Close'].iloc[i]))\n",
        "        elif df['RSI'].iloc[i] > 70:\n",
        "            signals.append((\"SELL\", df.index[i], df['Close'].iloc[i]))\n",
        "    return signals\n",
        "\n",
        "signals = {ticker: generate_signals(stock_data[ticker]) for ticker in tickers}\n"
      ],
      "metadata": {
        "id": "a8myUlbVmrRR"
      },
      "execution_count": 5,
      "outputs": []
    },
    {
      "cell_type": "code",
      "source": [
        "def backtest_signals(df, signals):\n",
        "    trades = []\n",
        "    position = None\n",
        "\n",
        "    for i in range(len(signals)):\n",
        "        action, date, price = signals[i]\n",
        "\n",
        "        if action == \"BUY\" and position is None:\n",
        "            position = (date, price)  # Open position\n",
        "        elif action == \"SELL\" and position is not None:\n",
        "            buy_date, buy_price = position\n",
        "            sell_date, sell_price = date, price\n",
        "            profit = sell_price - buy_price\n",
        "            trades.append({\n",
        "                \"Buy Date\": buy_date,\n",
        "                \"Buy Price\": buy_price,\n",
        "                \"Sell Date\": sell_date,\n",
        "                \"Sell Price\": sell_price,\n",
        "                \"P&L\": profit\n",
        "            })\n",
        "            position = None\n",
        "\n",
        "    # Close open position at the end\n",
        "    if position is not None:\n",
        "        buy_date, buy_price = position\n",
        "        sell_price = df['Close'].iloc[-1]\n",
        "        profit = sell_price - buy_price\n",
        "        trades.append({\n",
        "            \"Buy Date\": buy_date,\n",
        "            \"Buy Price\": buy_price,\n",
        "            \"Sell Date\": df.index[-1],\n",
        "            \"Sell Price\": sell_price,\n",
        "            \"P&L\": profit\n",
        "        })\n",
        "\n",
        "    return pd.DataFrame(trades)\n"
      ],
      "metadata": {
        "id": "ioO_RXAimwZE"
      },
      "execution_count": 6,
      "outputs": []
    },
    {
      "cell_type": "code",
      "source": [
        "trade_logs = {}\n",
        "for ticker in tickers:\n",
        "    df = stock_data[ticker]\n",
        "    trade_logs[ticker] = backtest_signals(df, signals[ticker])\n"
      ],
      "metadata": {
        "id": "1pBXihgxm_Pd"
      },
      "execution_count": 7,
      "outputs": []
    },
    {
      "cell_type": "code",
      "source": [
        "for ticker in tickers:\n",
        "    print(f\"\\n📈 {ticker} Trade Summary:\")\n",
        "    log = trade_logs[ticker]\n",
        "    if not log.empty:\n",
        "        total_trades = len(log)\n",
        "        win_trades = sum(log[\"P&L\"] > 0)\n",
        "        win_ratio = win_trades / total_trades * 100\n",
        "        total_profit = log[\"P&L\"].sum()\n",
        "        print(f\"Total Trades: {total_trades}\")\n",
        "        print(f\"Winning Trades: {win_trades}\")\n",
        "        print(f\"Win Ratio: {win_ratio:.2f}%\")\n",
        "        print(f\"Total P&L: ₹{total_profit:.2f}\")\n",
        "    else:\n",
        "        print(\"No trades generated.\")\n"
      ],
      "metadata": {
        "colab": {
          "base_uri": "https://localhost:8080/"
        },
        "id": "l8VDFOD0nCqw",
        "outputId": "f2929070-54a9-4255-d9bf-7334731d5395"
      },
      "execution_count": 8,
      "outputs": [
        {
          "output_type": "stream",
          "name": "stdout",
          "text": [
            "\n",
            "📈 TCS.NS Trade Summary:\n",
            "No trades generated.\n",
            "\n",
            "📈 INFY.NS Trade Summary:\n",
            "No trades generated.\n",
            "\n",
            "📈 RELIANCE.NS Trade Summary:\n",
            "No trades generated.\n"
          ]
        }
      ]
    },
    {
      "cell_type": "code",
      "source": [
        "from google.colab import files\n",
        "uploaded = files.upload()\n",
        "\n"
      ],
      "metadata": {
        "colab": {
          "base_uri": "https://localhost:8080/",
          "height": 73
        },
        "id": "AqHcrJWGnGJ7",
        "outputId": "3e50279d-5aef-4e51-9131-c9f21f65d3b7"
      },
      "execution_count": 9,
      "outputs": [
        {
          "output_type": "display_data",
          "data": {
            "text/plain": [
              "<IPython.core.display.HTML object>"
            ],
            "text/html": [
              "\n",
              "     <input type=\"file\" id=\"files-ae18e906-6173-441d-bf2f-db6b1957f64f\" name=\"files[]\" multiple disabled\n",
              "        style=\"border:none\" />\n",
              "     <output id=\"result-ae18e906-6173-441d-bf2f-db6b1957f64f\">\n",
              "      Upload widget is only available when the cell has been executed in the\n",
              "      current browser session. Please rerun this cell to enable.\n",
              "      </output>\n",
              "      <script>// Copyright 2017 Google LLC\n",
              "//\n",
              "// Licensed under the Apache License, Version 2.0 (the \"License\");\n",
              "// you may not use this file except in compliance with the License.\n",
              "// You may obtain a copy of the License at\n",
              "//\n",
              "//      http://www.apache.org/licenses/LICENSE-2.0\n",
              "//\n",
              "// Unless required by applicable law or agreed to in writing, software\n",
              "// distributed under the License is distributed on an \"AS IS\" BASIS,\n",
              "// WITHOUT WARRANTIES OR CONDITIONS OF ANY KIND, either express or implied.\n",
              "// See the License for the specific language governing permissions and\n",
              "// limitations under the License.\n",
              "\n",
              "/**\n",
              " * @fileoverview Helpers for google.colab Python module.\n",
              " */\n",
              "(function(scope) {\n",
              "function span(text, styleAttributes = {}) {\n",
              "  const element = document.createElement('span');\n",
              "  element.textContent = text;\n",
              "  for (const key of Object.keys(styleAttributes)) {\n",
              "    element.style[key] = styleAttributes[key];\n",
              "  }\n",
              "  return element;\n",
              "}\n",
              "\n",
              "// Max number of bytes which will be uploaded at a time.\n",
              "const MAX_PAYLOAD_SIZE = 100 * 1024;\n",
              "\n",
              "function _uploadFiles(inputId, outputId) {\n",
              "  const steps = uploadFilesStep(inputId, outputId);\n",
              "  const outputElement = document.getElementById(outputId);\n",
              "  // Cache steps on the outputElement to make it available for the next call\n",
              "  // to uploadFilesContinue from Python.\n",
              "  outputElement.steps = steps;\n",
              "\n",
              "  return _uploadFilesContinue(outputId);\n",
              "}\n",
              "\n",
              "// This is roughly an async generator (not supported in the browser yet),\n",
              "// where there are multiple asynchronous steps and the Python side is going\n",
              "// to poll for completion of each step.\n",
              "// This uses a Promise to block the python side on completion of each step,\n",
              "// then passes the result of the previous step as the input to the next step.\n",
              "function _uploadFilesContinue(outputId) {\n",
              "  const outputElement = document.getElementById(outputId);\n",
              "  const steps = outputElement.steps;\n",
              "\n",
              "  const next = steps.next(outputElement.lastPromiseValue);\n",
              "  return Promise.resolve(next.value.promise).then((value) => {\n",
              "    // Cache the last promise value to make it available to the next\n",
              "    // step of the generator.\n",
              "    outputElement.lastPromiseValue = value;\n",
              "    return next.value.response;\n",
              "  });\n",
              "}\n",
              "\n",
              "/**\n",
              " * Generator function which is called between each async step of the upload\n",
              " * process.\n",
              " * @param {string} inputId Element ID of the input file picker element.\n",
              " * @param {string} outputId Element ID of the output display.\n",
              " * @return {!Iterable<!Object>} Iterable of next steps.\n",
              " */\n",
              "function* uploadFilesStep(inputId, outputId) {\n",
              "  const inputElement = document.getElementById(inputId);\n",
              "  inputElement.disabled = false;\n",
              "\n",
              "  const outputElement = document.getElementById(outputId);\n",
              "  outputElement.innerHTML = '';\n",
              "\n",
              "  const pickedPromise = new Promise((resolve) => {\n",
              "    inputElement.addEventListener('change', (e) => {\n",
              "      resolve(e.target.files);\n",
              "    });\n",
              "  });\n",
              "\n",
              "  const cancel = document.createElement('button');\n",
              "  inputElement.parentElement.appendChild(cancel);\n",
              "  cancel.textContent = 'Cancel upload';\n",
              "  const cancelPromise = new Promise((resolve) => {\n",
              "    cancel.onclick = () => {\n",
              "      resolve(null);\n",
              "    };\n",
              "  });\n",
              "\n",
              "  // Wait for the user to pick the files.\n",
              "  const files = yield {\n",
              "    promise: Promise.race([pickedPromise, cancelPromise]),\n",
              "    response: {\n",
              "      action: 'starting',\n",
              "    }\n",
              "  };\n",
              "\n",
              "  cancel.remove();\n",
              "\n",
              "  // Disable the input element since further picks are not allowed.\n",
              "  inputElement.disabled = true;\n",
              "\n",
              "  if (!files) {\n",
              "    return {\n",
              "      response: {\n",
              "        action: 'complete',\n",
              "      }\n",
              "    };\n",
              "  }\n",
              "\n",
              "  for (const file of files) {\n",
              "    const li = document.createElement('li');\n",
              "    li.append(span(file.name, {fontWeight: 'bold'}));\n",
              "    li.append(span(\n",
              "        `(${file.type || 'n/a'}) - ${file.size} bytes, ` +\n",
              "        `last modified: ${\n",
              "            file.lastModifiedDate ? file.lastModifiedDate.toLocaleDateString() :\n",
              "                                    'n/a'} - `));\n",
              "    const percent = span('0% done');\n",
              "    li.appendChild(percent);\n",
              "\n",
              "    outputElement.appendChild(li);\n",
              "\n",
              "    const fileDataPromise = new Promise((resolve) => {\n",
              "      const reader = new FileReader();\n",
              "      reader.onload = (e) => {\n",
              "        resolve(e.target.result);\n",
              "      };\n",
              "      reader.readAsArrayBuffer(file);\n",
              "    });\n",
              "    // Wait for the data to be ready.\n",
              "    let fileData = yield {\n",
              "      promise: fileDataPromise,\n",
              "      response: {\n",
              "        action: 'continue',\n",
              "      }\n",
              "    };\n",
              "\n",
              "    // Use a chunked sending to avoid message size limits. See b/62115660.\n",
              "    let position = 0;\n",
              "    do {\n",
              "      const length = Math.min(fileData.byteLength - position, MAX_PAYLOAD_SIZE);\n",
              "      const chunk = new Uint8Array(fileData, position, length);\n",
              "      position += length;\n",
              "\n",
              "      const base64 = btoa(String.fromCharCode.apply(null, chunk));\n",
              "      yield {\n",
              "        response: {\n",
              "          action: 'append',\n",
              "          file: file.name,\n",
              "          data: base64,\n",
              "        },\n",
              "      };\n",
              "\n",
              "      let percentDone = fileData.byteLength === 0 ?\n",
              "          100 :\n",
              "          Math.round((position / fileData.byteLength) * 100);\n",
              "      percent.textContent = `${percentDone}% done`;\n",
              "\n",
              "    } while (position < fileData.byteLength);\n",
              "  }\n",
              "\n",
              "  // All done.\n",
              "  yield {\n",
              "    response: {\n",
              "      action: 'complete',\n",
              "    }\n",
              "  };\n",
              "}\n",
              "\n",
              "scope.google = scope.google || {};\n",
              "scope.google.colab = scope.google.colab || {};\n",
              "scope.google.colab._files = {\n",
              "  _uploadFiles,\n",
              "  _uploadFilesContinue,\n",
              "};\n",
              "})(self);\n",
              "</script> "
            ]
          },
          "metadata": {}
        },
        {
          "output_type": "stream",
          "name": "stdout",
          "text": [
            "Saving Credentials.json to Credentials (1).json\n"
          ]
        }
      ]
    },
    {
      "cell_type": "code",
      "source": [
        "import gspread\n",
        "from gspread_dataframe import set_with_dataframe\n",
        "from google.oauth2.service_account import Credentials\n",
        "\n",
        "# Define scope for Google Sheets access\n",
        "scope = [\"https://spreadsheets.google.com/feeds\", \"https://www.googleapis.com/auth/drive\"]\n",
        "\n",
        "# Load credentials from uploaded JSON\n",
        "creds = Credentials.from_service_account_file(\"Credentials.json\", scopes=scope)\n",
        "gc = gspread.authorize(creds)\n"
      ],
      "metadata": {
        "id": "FfBs2Ed_nZb3"
      },
      "execution_count": 10,
      "outputs": []
    },
    {
      "cell_type": "code",
      "source": [
        "sh = gc.open(\"AlgoTradingSheet\")\n",
        "tcs_data_ws = sh.worksheet(\"TCS\")           # Main stock data\n",
        "tcs_trades_ws = sh.worksheet(\"TCS_Trades\")  # Trade signals/log\n",
        "\n"
      ],
      "metadata": {
        "id": "HZ_CUryDqCUg"
      },
      "execution_count": 11,
      "outputs": []
    },
    {
      "cell_type": "code",
      "source": [
        "data = tcs_trades_ws.get_all_records()\n",
        "print(data)\n"
      ],
      "metadata": {
        "colab": {
          "base_uri": "https://localhost:8080/"
        },
        "id": "pw8vq-psrFpS",
        "outputId": "e63dbc89-9546-40b2-d998-6ada806af4bb"
      },
      "execution_count": 12,
      "outputs": [
        {
          "output_type": "stream",
          "name": "stdout",
          "text": [
            "[{'Date': '2025-08-06', 'Signal': 'BUY', 'Price': 3615, 'RSI': 29, '20DMA': 3580, '50DMA': 3550}, {'Date': '2025-08-07', 'Signal': 'SELL', 'Price': 3700, 'RSI': 70, '20DMA': 3650, '50DMA': 3600}]\n"
          ]
        }
      ]
    },
    {
      "cell_type": "code",
      "source": [
        "# Example DataFrame\n",
        "import pandas as pd\n",
        "\n",
        "df_trades = pd.DataFrame([\n",
        "    {\"Date\": \"2025-08-06\", \"Signal\": \"BUY\", \"Price\": 3615, \"RSI\": 29, \"20DMA\": 3580, \"50DMA\": 3550},\n",
        "    {\"Date\": \"2025-08-07\", \"Signal\": \"SELL\", \"Price\": 3700, \"RSI\": 70, \"20DMA\": 3650, \"50DMA\": 3600}\n",
        "])\n"
      ],
      "metadata": {
        "id": "RcR8q0Zdr8e_"
      },
      "execution_count": 13,
      "outputs": []
    },
    {
      "cell_type": "code",
      "source": [
        "from gspread_dataframe import set_with_dataframe\n",
        "\n",
        "set_with_dataframe(tcs_trades_ws, df_trades)\n"
      ],
      "metadata": {
        "id": "IsiAP7PgsB1Z"
      },
      "execution_count": 14,
      "outputs": []
    },
    {
      "cell_type": "code",
      "source": [
        "import gspread\n",
        "from datetime import datetime\n",
        "from google.oauth2.service_account import Credentials\n",
        "\n",
        "# Assuming you've already authenticated and have the sheet\n",
        "# Example: sh = gc.open_by_key(\"your_spreadsheet_key\")\n",
        "tcs_trades_ws = sh.worksheet(\"TCS_Trades\")\n",
        "\n",
        "def log_trade_to_sheet(date, action, price, rsi, dma_20, dma_50, result=\"Open\"):\n",
        "    row = [date, action, price, rsi, dma_20, dma_50, result]\n",
        "    tcs_trades_ws.append_row(row)\n"
      ],
      "metadata": {
        "id": "ahmtijHBsDNn"
      },
      "execution_count": 15,
      "outputs": []
    },
    {
      "cell_type": "code",
      "source": [
        "print(stock_data.keys())\n"
      ],
      "metadata": {
        "colab": {
          "base_uri": "https://localhost:8080/"
        },
        "id": "Zyj7THmmu-5O",
        "outputId": "e46c05d2-1f5f-4cda-9207-86af7a547e5a"
      },
      "execution_count": 16,
      "outputs": [
        {
          "output_type": "stream",
          "name": "stdout",
          "text": [
            "dict_keys(['TCS.NS', 'INFY.NS', 'RELIANCE.NS'])\n"
          ]
        }
      ]
    },
    {
      "cell_type": "code",
      "source": [
        "latest = stock_data[\"TCS.NS\"].iloc[-1]\n"
      ],
      "metadata": {
        "id": "M5Zc36wDut3A"
      },
      "execution_count": 17,
      "outputs": []
    },
    {
      "cell_type": "code",
      "source": [
        "rsi = latest[\"RSI\"]\n",
        "dma_20 = latest[\"20DMA\"]\n",
        "dma_50 = latest[\"50DMA\"]\n",
        "price = latest[\"Close\"]\n",
        "\n",
        "\n",
        "\n"
      ],
      "metadata": {
        "id": "ro3x3jwhvTTx"
      },
      "execution_count": 18,
      "outputs": []
    },
    {
      "cell_type": "code",
      "source": [
        "# Use the correct key — print(stock_data.keys()) to confirm if needed\n",
        "latest = stock_data[\"TCS.NS\"].iloc[-1]  # or \"TCS\" if your dictionary uses that key\n",
        "\n",
        "# Force single float values from the row\n",
        "rsi = float(latest[\"RSI\"])\n",
        "dma_20 = float(latest[\"20DMA\"])\n",
        "dma_50 = float(latest[\"50DMA\"])\n",
        "price = float(latest[\"Close\"])\n",
        "\n",
        "# Apply the trading logic\n",
        "if (rsi < 30) and (dma_20 > dma_50):\n",
        "    action = \"Buy\"\n",
        "elif (rsi > 70) and (dma_20 < dma_50):\n",
        "    action = \"Sell\"\n",
        "else:\n",
        "    action = None\n",
        "\n",
        "# Log trade to sheet if action triggered\n",
        "if action:\n",
        "    log_trade_to_sheet(\n",
        "        date=datetime.today().strftime(\"%Y-%m-%d\"),\n",
        "        action=action,\n",
        "        price=price,\n",
        "        rsi=rsi,\n",
        "        dma_20=dma_20,\n",
        "        dma_50=dma_50\n",
        "    )\n",
        "    print(f\"{action} trade logged.\")\n",
        "else:\n",
        "    print(\"No trade signal today.\")\n"
      ],
      "metadata": {
        "colab": {
          "base_uri": "https://localhost:8080/"
        },
        "id": "MwVTEBd-vUs3",
        "outputId": "70645d05-70b0-43a5-f887-16d15dac7a80"
      },
      "execution_count": 19,
      "outputs": [
        {
          "output_type": "stream",
          "name": "stdout",
          "text": [
            "No trade signal today.\n"
          ]
        },
        {
          "output_type": "stream",
          "name": "stderr",
          "text": [
            "/tmp/ipython-input-2401558020.py:5: FutureWarning: Calling float on a single element Series is deprecated and will raise a TypeError in the future. Use float(ser.iloc[0]) instead\n",
            "  rsi = float(latest[\"RSI\"])\n",
            "/tmp/ipython-input-2401558020.py:6: FutureWarning: Calling float on a single element Series is deprecated and will raise a TypeError in the future. Use float(ser.iloc[0]) instead\n",
            "  dma_20 = float(latest[\"20DMA\"])\n",
            "/tmp/ipython-input-2401558020.py:7: FutureWarning: Calling float on a single element Series is deprecated and will raise a TypeError in the future. Use float(ser.iloc[0]) instead\n",
            "  dma_50 = float(latest[\"50DMA\"])\n",
            "/tmp/ipython-input-2401558020.py:8: FutureWarning: Calling float on a single element Series is deprecated and will raise a TypeError in the future. Use float(ser.iloc[0]) instead\n",
            "  price = float(latest[\"Close\"])\n"
          ]
        }
      ]
    },
    {
      "cell_type": "code",
      "source": [
        "import yfinance as yf\n",
        "import pandas as pd\n",
        "import numpy as np\n",
        "\n"
      ],
      "metadata": {
        "id": "eorgXRc6yMBl"
      },
      "execution_count": 20,
      "outputs": []
    },
    {
      "cell_type": "code",
      "source": [
        "def compute_rsi(series, period=14):\n",
        "    delta = series.diff()\n",
        "    gain = (delta.where(delta > 0, 0)).rolling(window=period).mean()\n",
        "    loss = (-delta.where(delta < 0, 0)).rolling(window=period).mean()\n",
        "    rs = gain / loss\n",
        "    rsi = 100 - (100 / (1 + rs))\n",
        "    return rsi\n"
      ],
      "metadata": {
        "id": "algWGj32y2qw"
      },
      "execution_count": 21,
      "outputs": []
    },
    {
      "cell_type": "code",
      "source": [
        "ticker = \"TCS.NS\"\n",
        "data = yf.download(ticker, period=\"3mo\")\n",
        "\n",
        "data[\"20DMA\"] = data[\"Close\"].rolling(window=20).mean()\n",
        "data[\"50DMA\"] = data[\"Close\"].rolling(window=50).mean()\n",
        "data[\"RSI\"] = compute_rsi(data[\"Close\"], period=14)\n",
        "\n",
        "data.dropna(inplace=True)\n",
        "\n",
        "# Store in dictionary like before\n",
        "stock_data = {ticker: data}\n"
      ],
      "metadata": {
        "colab": {
          "base_uri": "https://localhost:8080/"
        },
        "id": "XWBth9xly4NA",
        "outputId": "08ac2fe1-1a00-4172-fd8f-ee348af8e8fc"
      },
      "execution_count": 22,
      "outputs": [
        {
          "output_type": "stream",
          "name": "stderr",
          "text": [
            "/tmp/ipython-input-2276325484.py:2: FutureWarning: YF.download() has changed argument auto_adjust default to True\n",
            "  data = yf.download(ticker, period=\"3mo\")\n",
            "[*********************100%***********************]  1 of 1 completed\n"
          ]
        }
      ]
    },
    {
      "cell_type": "code",
      "source": [
        "def log_trade_to_sheet(date, action, price, rsi, dma_20, dma_50, result=\"Open\"):\n",
        "    row = [date, action, price, rsi, dma_20, dma_50, result]\n",
        "    tcs_trades_ws.append_row(row)\n"
      ],
      "metadata": {
        "id": "eIvdU64xwwKI"
      },
      "execution_count": 23,
      "outputs": []
    },
    {
      "cell_type": "code",
      "source": [
        "print(stock_data.keys())\n"
      ],
      "metadata": {
        "colab": {
          "base_uri": "https://localhost:8080/"
        },
        "id": "n24qmU9vxBHW",
        "outputId": "998c4be3-b09d-4bd6-ec11-1b0acb28c7cc"
      },
      "execution_count": 24,
      "outputs": [
        {
          "output_type": "stream",
          "name": "stdout",
          "text": [
            "dict_keys(['TCS.NS'])\n"
          ]
        }
      ]
    },
    {
      "cell_type": "code",
      "source": [
        "# Ensure you're extracting the latest row correctly\n",
        "latest = stock_data[\"TCS.NS\"].iloc[-1]  # This MUST return a Series, not DataFrame\n",
        "\n",
        "# Convert each to scalar value using `.item()` if needed\n",
        "rsi = latest[\"RSI\"].item() if hasattr(latest[\"RSI\"], \"item\") else latest[\"RSI\"]\n",
        "dma_20 = latest[\"20DMA\"].item() if hasattr(latest[\"20DMA\"], \"item\") else latest[\"20DMA\"]\n",
        "dma_50 = latest[\"50DMA\"].item() if hasattr(latest[\"50DMA\"], \"item\") else latest[\"50DMA\"]\n",
        "\n",
        "# Now safe to compare\n",
        "if (rsi < 30) and (dma_20 > dma_50):\n",
        "    action = \"Buy\"\n",
        "elif (rsi > 70) and (dma_20 < dma_50):\n",
        "    action = \"Sell\"\n",
        "else:\n",
        "    action = \"Hold\"\n",
        "\n",
        "print(\"Trade Action:\", action)\n"
      ],
      "metadata": {
        "colab": {
          "base_uri": "https://localhost:8080/"
        },
        "id": "Jr4aMT7B5VLn",
        "outputId": "4dd87c84-6d9a-40e4-b10f-93fc1d2ed241"
      },
      "execution_count": 25,
      "outputs": [
        {
          "output_type": "stream",
          "name": "stdout",
          "text": [
            "Trade Action: Hold\n"
          ]
        }
      ]
    },
    {
      "cell_type": "code",
      "source": [
        "from datetime import datetime\n",
        "\n",
        "ticker = \"TCS.NS\"\n",
        "\n",
        "# Get the latest row of TCS.NS stock data\n",
        "latest = stock_data[ticker].iloc[-1]\n",
        "\n",
        "# Extract indicator values as scalars\n",
        "rsi = float(latest[\"RSI\"])\n",
        "dma_20 = float(latest[\"20DMA\"])\n",
        "dma_50 = float(latest[\"50DMA\"])\n",
        "price = float(latest[\"Close\"])\n",
        "\n",
        "# Apply trading strategy\n",
        "if (rsi < 30) and (dma_20 > dma_50):\n",
        "    action = \"Buy\"\n",
        "elif (rsi > 70) and (dma_20 < dma_50):\n",
        "    action = \"Sell\"\n",
        "else:\n",
        "    action = \"Hold\"\n",
        "\n",
        "# Log only if Buy/Sell\n",
        "if action != \"Hold\":\n",
        "    log_trade_to_sheet(\n",
        "        date=datetime.today().strftime(\"%Y-%m-%d\"),\n",
        "        action=action,\n",
        "        price=price,\n",
        "        rsi=rsi,\n",
        "        dma_20=dma_20,\n",
        "        dma_50=dma_50\n",
        "    )\n",
        "\n",
        "# Optional status output\n",
        "print(f\"{ticker} - Action: {action}, RSI: {rsi:.2f}, DMA20: {dma_20:.2f}, DMA50: {dma_50:.2f}\")\n"
      ],
      "metadata": {
        "colab": {
          "base_uri": "https://localhost:8080/"
        },
        "id": "raTtVkbewEHG",
        "outputId": "3dd5959b-f0ad-42d8-83ce-fe3cf0ec87bd"
      },
      "execution_count": 26,
      "outputs": [
        {
          "output_type": "stream",
          "name": "stdout",
          "text": [
            "TCS.NS - Action: Hold, RSI: 29.98, DMA20: 3128.36, DMA50: 3299.47\n"
          ]
        },
        {
          "output_type": "stream",
          "name": "stderr",
          "text": [
            "/tmp/ipython-input-294717985.py:9: FutureWarning: Calling float on a single element Series is deprecated and will raise a TypeError in the future. Use float(ser.iloc[0]) instead\n",
            "  rsi = float(latest[\"RSI\"])\n",
            "/tmp/ipython-input-294717985.py:10: FutureWarning: Calling float on a single element Series is deprecated and will raise a TypeError in the future. Use float(ser.iloc[0]) instead\n",
            "  dma_20 = float(latest[\"20DMA\"])\n",
            "/tmp/ipython-input-294717985.py:11: FutureWarning: Calling float on a single element Series is deprecated and will raise a TypeError in the future. Use float(ser.iloc[0]) instead\n",
            "  dma_50 = float(latest[\"50DMA\"])\n",
            "/tmp/ipython-input-294717985.py:12: FutureWarning: Calling float on a single element Series is deprecated and will raise a TypeError in the future. Use float(ser.iloc[0]) instead\n",
            "  price = float(latest[\"Close\"])\n"
          ]
        }
      ]
    },
    {
      "cell_type": "code",
      "source": [
        "from datetime import datetime\n",
        "import yfinance as yf\n",
        "import pandas as pd\n",
        "import pandas_ta as ta\n",
        "\n",
        "# List of tickers to track\n",
        "tickers = [\"TCS.NS\", \"INFY.NS\", \"RELIANCE.NS\"]  # Add more as needed\n",
        "\n",
        "# Dictionary to store stock data\n",
        "stock_data = {}\n",
        "\n",
        "# Fetch and calculate indicators for each stock\n",
        "for ticker in tickers:\n",
        "    data = yf.download(ticker, period=\"3mo\")\n",
        "    data[\"RSI\"] = ta.rsi(data[\"Close\"], length=14)\n",
        "    data[\"20DMA\"] = data[\"Close\"].rolling(window=20).mean()\n",
        "    data[\"50DMA\"] = data[\"Close\"].rolling(window=50).mean()\n",
        "    stock_data[ticker] = data\n",
        "\n",
        "# Apply trading strategy\n",
        "for ticker in tickers:\n",
        "    latest = stock_data[ticker].iloc[-1]\n",
        "\n",
        "    try:\n",
        "        rsi = float(latest[\"RSI\"])\n",
        "        dma_20 = float(latest[\"20DMA\"])\n",
        "        dma_50 = float(latest[\"50DMA\"])\n",
        "        price = float(latest[\"Close\"])\n",
        "    except Exception as e:\n",
        "        print(f\"Skipping {ticker} due to data issue: {e}\")\n",
        "        continue\n",
        "\n",
        "    # Apply strategy\n",
        "    if (rsi < 30) and (dma_20 > dma_50):\n",
        "        action = \"Buy\"\n",
        "    elif (rsi > 70) and (dma_20 < dma_50):\n",
        "        action = \"Sell\"\n",
        "    else:\n",
        "        action = \"Hold\"\n",
        "\n",
        "    # Log only Buy/Sell\n",
        "    if action != \"Hold\":\n",
        "        log_trade_to_sheet(\n",
        "            date=datetime.today().strftime(\"%Y-%m-%d\"),\n",
        "            action=action,\n",
        "            price=price,\n",
        "            rsi=rsi,\n",
        "            dma_20=dma_20,\n",
        "            dma_50=dma_50\n",
        "        )\n",
        "\n",
        "    print(f\"{ticker} - Action: {action}, RSI: {rsi:.2f}, DMA20: {dma_20:.2f}, DMA50: {dma_50:.2f}\")\n"
      ],
      "metadata": {
        "colab": {
          "base_uri": "https://localhost:8080/"
        },
        "id": "5OJi9uUz5-Vm",
        "outputId": "dadddfc9-af11-42db-d73c-d8e377e52de0"
      },
      "execution_count": 27,
      "outputs": [
        {
          "output_type": "stream",
          "name": "stderr",
          "text": [
            "/tmp/ipython-input-2919372134.py:14: FutureWarning: YF.download() has changed argument auto_adjust default to True\n",
            "  data = yf.download(ticker, period=\"3mo\")\n",
            "[*********************100%***********************]  1 of 1 completed\n",
            "/tmp/ipython-input-2919372134.py:14: FutureWarning: YF.download() has changed argument auto_adjust default to True\n",
            "  data = yf.download(ticker, period=\"3mo\")\n",
            "[*********************100%***********************]  1 of 1 completed\n",
            "/tmp/ipython-input-2919372134.py:14: FutureWarning: YF.download() has changed argument auto_adjust default to True\n",
            "  data = yf.download(ticker, period=\"3mo\")\n",
            "[*********************100%***********************]  1 of 1 completed"
          ]
        },
        {
          "output_type": "stream",
          "name": "stdout",
          "text": [
            "Skipping TCS.NS due to data issue: float() argument must be a string or a real number, not 'NoneType'\n",
            "Skipping INFY.NS due to data issue: float() argument must be a string or a real number, not 'NoneType'\n",
            "Skipping RELIANCE.NS due to data issue: float() argument must be a string or a real number, not 'NoneType'\n"
          ]
        },
        {
          "output_type": "stream",
          "name": "stderr",
          "text": [
            "\n",
            "/tmp/ipython-input-2919372134.py:25: FutureWarning: Calling float on a single element Series is deprecated and will raise a TypeError in the future. Use float(ser.iloc[0]) instead\n",
            "  rsi = float(latest[\"RSI\"])\n"
          ]
        }
      ]
    },
    {
      "cell_type": "code",
      "source": [
        "!pip install schedule\n"
      ],
      "metadata": {
        "colab": {
          "base_uri": "https://localhost:8080/"
        },
        "id": "opTkLeYS9JD2",
        "outputId": "a4c67ca9-a31e-4b00-a802-755b3e90a839"
      },
      "execution_count": 28,
      "outputs": [
        {
          "output_type": "stream",
          "name": "stdout",
          "text": [
            "Requirement already satisfied: schedule in /usr/local/lib/python3.11/dist-packages (1.2.2)\n"
          ]
        }
      ]
    },
    {
      "cell_type": "code",
      "source": [
        "import schedule\n",
        "import time\n",
        "\n",
        "# Define your main trading job\n",
        "def run_algo():\n",
        "    print(\"Running automated trading script...\")\n",
        "    # Your full strategy code goes here\n",
        "    # This is where you fetch data, apply logic, and log to Google Sheets\n",
        "    # For example:\n",
        "    from datetime import datetime\n",
        "\n",
        "    tickers = [\"TCS.NS\", \"INFY.NS\", \"RELIANCE.NS\"]\n",
        "    stock_data = {}\n",
        "\n",
        "    for ticker in tickers:\n",
        "        data = yf.download(ticker, period=\"3mo\")\n",
        "        data[\"RSI\"] = ta.rsi(data[\"Close\"], length=14)\n",
        "        data[\"20DMA\"] = data[\"Close\"].rolling(window=20).mean()\n",
        "        data[\"50DMA\"] = data[\"Close\"].rolling(window=50).mean()\n",
        "        stock_data[ticker] = data\n",
        "\n",
        "    for ticker in tickers:\n",
        "        latest = stock_data[ticker].iloc[-1]\n",
        "\n",
        "        try:\n",
        "            rsi = float(latest[\"RSI\"])\n",
        "            dma_20 = float(latest[\"20DMA\"])\n",
        "            dma_50 = float(latest[\"50DMA\"])\n",
        "            price = float(latest[\"Close\"])\n",
        "        except Exception as e:\n",
        "            print(f\"Skipping {ticker} due to data issue: {e}\")\n",
        "            continue\n",
        "\n",
        "        if (rsi < 30) and (dma_20 > dma_50):\n",
        "            action = \"Buy\"\n",
        "        elif (rsi > 70) and (dma_20 < dma_50):\n",
        "            action = \"Sell\"\n",
        "        else:\n",
        "            action = \"Hold\"\n",
        "\n",
        "        if action != \"Hold\":\n",
        "            log_trade_to_sheet(\n",
        "                date=datetime.today().strftime(\"%Y-%m-%d\"),\n",
        "                action=action,\n",
        "                price=price,\n",
        "                rsi=rsi,\n",
        "                dma_20=dma_20,\n",
        "                dma_50=dma_50\n",
        "            )\n",
        "\n",
        "        print(f\"{ticker} - Action: {action}, RSI: {rsi:.2f}, DMA20: {dma_20:.2f}, DMA50: {dma_50:.2f}\")\n",
        "\n",
        "# Schedule the job at 9:15 AM (IST) daily\n",
        "schedule.every().day.at(\"09:15\").do(run_algo)\n",
        "\n",
        "# Loop to keep checking\n",
        "while True:\n",
        "    schedule.run_pending()\n",
        "    time.sleep(60)  # wait 1 minute\n"
      ],
      "metadata": {
        "colab": {
          "base_uri": "https://localhost:8080/",
          "height": 176
        },
        "id": "jwKJWiKM9L6H",
        "outputId": "2ad3dd6d-7ec9-4ffe-e2d6-d107e11b1914"
      },
      "execution_count": 29,
      "outputs": [
        {
          "output_type": "error",
          "ename": "KeyboardInterrupt",
          "evalue": "",
          "traceback": [
            "\u001b[0;31m---------------------------------------------------------------------------\u001b[0m",
            "\u001b[0;31mKeyboardInterrupt\u001b[0m                         Traceback (most recent call last)",
            "\u001b[0;32m/tmp/ipython-input-3097196513.py\u001b[0m in \u001b[0;36m<cell line: 0>\u001b[0;34m()\u001b[0m\n\u001b[1;32m     57\u001b[0m \u001b[0;32mwhile\u001b[0m \u001b[0;32mTrue\u001b[0m\u001b[0;34m:\u001b[0m\u001b[0;34m\u001b[0m\u001b[0;34m\u001b[0m\u001b[0m\n\u001b[1;32m     58\u001b[0m     \u001b[0mschedule\u001b[0m\u001b[0;34m.\u001b[0m\u001b[0mrun_pending\u001b[0m\u001b[0;34m(\u001b[0m\u001b[0;34m)\u001b[0m\u001b[0;34m\u001b[0m\u001b[0;34m\u001b[0m\u001b[0m\n\u001b[0;32m---> 59\u001b[0;31m     \u001b[0mtime\u001b[0m\u001b[0;34m.\u001b[0m\u001b[0msleep\u001b[0m\u001b[0;34m(\u001b[0m\u001b[0;36m60\u001b[0m\u001b[0;34m)\u001b[0m  \u001b[0;31m# wait 1 minute\u001b[0m\u001b[0;34m\u001b[0m\u001b[0;34m\u001b[0m\u001b[0m\n\u001b[0m",
            "\u001b[0;31mKeyboardInterrupt\u001b[0m: "
          ]
        }
      ]
    },
    {
      "cell_type": "code",
      "source": [
        "print(\"Columns in df:\", df.columns.tolist())\n"
      ],
      "metadata": {
        "colab": {
          "base_uri": "https://localhost:8080/"
        },
        "id": "67XkS11DBCM8",
        "outputId": "15c1dc01-ae0d-4779-c15f-b55d08dbf8d8"
      },
      "execution_count": 11,
      "outputs": [
        {
          "output_type": "stream",
          "name": "stdout",
          "text": [
            "Columns in df: [('Close', 'TCS.NS'), ('High', 'TCS.NS'), ('Low', 'TCS.NS'), ('Open', 'TCS.NS'), ('Volume', 'TCS.NS'), ('RSI', ''), ('Target', '')]\n"
          ]
        }
      ]
    },
    {
      "cell_type": "code",
      "source": [
        "# List all Google Sheets the service account has access to\n",
        "files = gc.list_spreadsheet_files()\n",
        "for f in files:\n",
        "    print(f['name'])\n"
      ],
      "metadata": {
        "colab": {
          "base_uri": "https://localhost:8080/"
        },
        "id": "3DpqNehfDcM0",
        "outputId": "066d6bff-d256-48d5-b1ff-a31015f0e590"
      },
      "execution_count": 17,
      "outputs": [
        {
          "output_type": "stream",
          "name": "stdout",
          "text": [
            "AlgoTradingSheet\n"
          ]
        }
      ]
    }
  ]
}